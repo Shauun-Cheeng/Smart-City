{
 "cells": [
  {
   "cell_type": "code",
   "execution_count": 1,
   "id": "220215d5",
   "metadata": {
    "_cell_guid": "b1076dfc-b9ad-4769-8c92-a6c4dae69d19",
    "_uuid": "8f2839f25d086af736a60e9eeb907d3b93b6e0e5",
    "execution": {
     "iopub.execute_input": "2024-10-17T14:37:18.469186Z",
     "iopub.status.busy": "2024-10-17T14:37:18.468766Z",
     "iopub.status.idle": "2024-10-17T14:37:20.446630Z",
     "shell.execute_reply": "2024-10-17T14:37:20.445501Z"
    },
    "papermill": {
     "duration": 1.984953,
     "end_time": "2024-10-17T14:37:20.449172",
     "exception": false,
     "start_time": "2024-10-17T14:37:18.464219",
     "status": "completed"
    },
    "tags": []
   },
   "outputs": [],
   "source": [
    "# Import necessary libraries\n",
    "import pandas as pd\n",
    "import numpy as np\n",
    "import matplotlib.pyplot as plt\n",
    "import matplotlib.dates as mdates\n",
    "from sklearn import linear_model"
   ]
  },
  {
   "cell_type": "code",
   "execution_count": 2,
   "id": "ef3d84db",
   "metadata": {
    "execution": {
     "iopub.execute_input": "2024-10-17T14:37:20.456114Z",
     "iopub.status.busy": "2024-10-17T14:37:20.455586Z",
     "iopub.status.idle": "2024-10-17T14:37:20.503389Z",
     "shell.execute_reply": "2024-10-17T14:37:20.502355Z"
    },
    "papermill": {
     "duration": 0.053613,
     "end_time": "2024-10-17T14:37:20.505673",
     "exception": false,
     "start_time": "2024-10-17T14:37:20.452060",
     "status": "completed"
    },
    "tags": []
   },
   "outputs": [
    {
     "data": {
      "text/html": [
       "<div>\n",
       "<style scoped>\n",
       "    .dataframe tbody tr th:only-of-type {\n",
       "        vertical-align: middle;\n",
       "    }\n",
       "\n",
       "    .dataframe tbody tr th {\n",
       "        vertical-align: top;\n",
       "    }\n",
       "\n",
       "    .dataframe thead th {\n",
       "        text-align: right;\n",
       "    }\n",
       "</style>\n",
       "<table border=\"1\" class=\"dataframe\">\n",
       "  <thead>\n",
       "    <tr style=\"text-align: right;\">\n",
       "      <th></th>\n",
       "      <th>Date</th>\n",
       "      <th>Open</th>\n",
       "      <th>High</th>\n",
       "      <th>Low</th>\n",
       "      <th>Close</th>\n",
       "      <th>Adj Close</th>\n",
       "      <th>Volume</th>\n",
       "    </tr>\n",
       "  </thead>\n",
       "  <tbody>\n",
       "    <tr>\n",
       "      <th>0</th>\n",
       "      <td>2012-05-18</td>\n",
       "      <td>42.049999</td>\n",
       "      <td>45.000000</td>\n",
       "      <td>38.000000</td>\n",
       "      <td>38.230000</td>\n",
       "      <td>38.115238</td>\n",
       "      <td>573576400</td>\n",
       "    </tr>\n",
       "    <tr>\n",
       "      <th>1</th>\n",
       "      <td>2012-05-21</td>\n",
       "      <td>36.529999</td>\n",
       "      <td>36.660000</td>\n",
       "      <td>33.000000</td>\n",
       "      <td>34.029999</td>\n",
       "      <td>33.927845</td>\n",
       "      <td>168192700</td>\n",
       "    </tr>\n",
       "    <tr>\n",
       "      <th>2</th>\n",
       "      <td>2012-05-22</td>\n",
       "      <td>32.610001</td>\n",
       "      <td>33.590000</td>\n",
       "      <td>30.940001</td>\n",
       "      <td>31.000000</td>\n",
       "      <td>30.906942</td>\n",
       "      <td>101786600</td>\n",
       "    </tr>\n",
       "    <tr>\n",
       "      <th>3</th>\n",
       "      <td>2012-05-23</td>\n",
       "      <td>31.370001</td>\n",
       "      <td>32.500000</td>\n",
       "      <td>31.360001</td>\n",
       "      <td>32.000000</td>\n",
       "      <td>31.903942</td>\n",
       "      <td>73600000</td>\n",
       "    </tr>\n",
       "    <tr>\n",
       "      <th>4</th>\n",
       "      <td>2012-05-24</td>\n",
       "      <td>32.950001</td>\n",
       "      <td>33.209999</td>\n",
       "      <td>31.770000</td>\n",
       "      <td>33.029999</td>\n",
       "      <td>32.930851</td>\n",
       "      <td>50237200</td>\n",
       "    </tr>\n",
       "  </tbody>\n",
       "</table>\n",
       "</div>"
      ],
      "text/plain": [
       "         Date       Open       High        Low      Close  Adj Close  \\\n",
       "0  2012-05-18  42.049999  45.000000  38.000000  38.230000  38.115238   \n",
       "1  2012-05-21  36.529999  36.660000  33.000000  34.029999  33.927845   \n",
       "2  2012-05-22  32.610001  33.590000  30.940001  31.000000  30.906942   \n",
       "3  2012-05-23  31.370001  32.500000  31.360001  32.000000  31.903942   \n",
       "4  2012-05-24  32.950001  33.209999  31.770000  33.029999  32.930851   \n",
       "\n",
       "      Volume  \n",
       "0  573576400  \n",
       "1  168192700  \n",
       "2  101786600  \n",
       "3   73600000  \n",
       "4   50237200  "
      ]
     },
     "execution_count": 2,
     "metadata": {},
     "output_type": "execute_result"
    }
   ],
   "source": [
    "# Load datasets\n",
    "df = pd.read_csv('/kaggle/input/meta-stock-data-and-key-affiliated-companies/META_daily_data.csv')\n",
    "df.head()"
   ]
  },
  {
   "cell_type": "code",
   "execution_count": 3,
   "id": "e9eab514",
   "metadata": {
    "execution": {
     "iopub.execute_input": "2024-10-17T14:37:20.512724Z",
     "iopub.status.busy": "2024-10-17T14:37:20.512033Z",
     "iopub.status.idle": "2024-10-17T14:37:20.534719Z",
     "shell.execute_reply": "2024-10-17T14:37:20.533643Z"
    },
    "papermill": {
     "duration": 0.028813,
     "end_time": "2024-10-17T14:37:20.537246",
     "exception": false,
     "start_time": "2024-10-17T14:37:20.508433",
     "status": "completed"
    },
    "tags": []
   },
   "outputs": [
    {
     "name": "stdout",
     "output_type": "stream",
     "text": [
      "<class 'pandas.core.frame.DataFrame'>\n",
      "RangeIndex: 3110 entries, 0 to 3109\n",
      "Data columns (total 7 columns):\n",
      " #   Column     Non-Null Count  Dtype  \n",
      "---  ------     --------------  -----  \n",
      " 0   Date       3110 non-null   object \n",
      " 1   Open       3110 non-null   float64\n",
      " 2   High       3110 non-null   float64\n",
      " 3   Low        3110 non-null   float64\n",
      " 4   Close      3110 non-null   float64\n",
      " 5   Adj Close  3110 non-null   float64\n",
      " 6   Volume     3110 non-null   int64  \n",
      "dtypes: float64(5), int64(1), object(1)\n",
      "memory usage: 170.2+ KB\n"
     ]
    }
   ],
   "source": [
    "df.info()"
   ]
  },
  {
   "cell_type": "code",
   "execution_count": 4,
   "id": "29bc698c",
   "metadata": {
    "execution": {
     "iopub.execute_input": "2024-10-17T14:37:20.544469Z",
     "iopub.status.busy": "2024-10-17T14:37:20.544087Z",
     "iopub.status.idle": "2024-10-17T14:37:20.572336Z",
     "shell.execute_reply": "2024-10-17T14:37:20.571333Z"
    },
    "papermill": {
     "duration": 0.034424,
     "end_time": "2024-10-17T14:37:20.574554",
     "exception": false,
     "start_time": "2024-10-17T14:37:20.540130",
     "status": "completed"
    },
    "tags": []
   },
   "outputs": [
    {
     "data": {
      "text/html": [
       "<div>\n",
       "<style scoped>\n",
       "    .dataframe tbody tr th:only-of-type {\n",
       "        vertical-align: middle;\n",
       "    }\n",
       "\n",
       "    .dataframe tbody tr th {\n",
       "        vertical-align: top;\n",
       "    }\n",
       "\n",
       "    .dataframe thead th {\n",
       "        text-align: right;\n",
       "    }\n",
       "</style>\n",
       "<table border=\"1\" class=\"dataframe\">\n",
       "  <thead>\n",
       "    <tr style=\"text-align: right;\">\n",
       "      <th></th>\n",
       "      <th>Open</th>\n",
       "      <th>High</th>\n",
       "      <th>Low</th>\n",
       "      <th>Close</th>\n",
       "      <th>Adj Close</th>\n",
       "      <th>Volume</th>\n",
       "    </tr>\n",
       "  </thead>\n",
       "  <tbody>\n",
       "    <tr>\n",
       "      <th>count</th>\n",
       "      <td>3110.000000</td>\n",
       "      <td>3110.000000</td>\n",
       "      <td>3110.000000</td>\n",
       "      <td>3110.000000</td>\n",
       "      <td>3110.000000</td>\n",
       "      <td>3.110000e+03</td>\n",
       "    </tr>\n",
       "    <tr>\n",
       "      <th>mean</th>\n",
       "      <td>177.125299</td>\n",
       "      <td>179.428695</td>\n",
       "      <td>174.899701</td>\n",
       "      <td>177.212695</td>\n",
       "      <td>176.720313</td>\n",
       "      <td>2.970351e+07</td>\n",
       "    </tr>\n",
       "    <tr>\n",
       "      <th>std</th>\n",
       "      <td>117.677661</td>\n",
       "      <td>119.188384</td>\n",
       "      <td>116.224143</td>\n",
       "      <td>117.737480</td>\n",
       "      <td>117.494990</td>\n",
       "      <td>2.591104e+07</td>\n",
       "    </tr>\n",
       "    <tr>\n",
       "      <th>min</th>\n",
       "      <td>18.080000</td>\n",
       "      <td>18.270000</td>\n",
       "      <td>17.549999</td>\n",
       "      <td>17.730000</td>\n",
       "      <td>17.676779</td>\n",
       "      <td>5.467500e+06</td>\n",
       "    </tr>\n",
       "    <tr>\n",
       "      <th>25%</th>\n",
       "      <td>85.094999</td>\n",
       "      <td>86.227499</td>\n",
       "      <td>83.567501</td>\n",
       "      <td>84.882498</td>\n",
       "      <td>84.627699</td>\n",
       "      <td>1.570612e+07</td>\n",
       "    </tr>\n",
       "    <tr>\n",
       "      <th>50%</th>\n",
       "      <td>163.550003</td>\n",
       "      <td>165.989998</td>\n",
       "      <td>161.079994</td>\n",
       "      <td>163.735001</td>\n",
       "      <td>163.243492</td>\n",
       "      <td>2.200285e+07</td>\n",
       "    </tr>\n",
       "    <tr>\n",
       "      <th>75%</th>\n",
       "      <td>230.212502</td>\n",
       "      <td>233.752502</td>\n",
       "      <td>226.852497</td>\n",
       "      <td>231.729996</td>\n",
       "      <td>231.034374</td>\n",
       "      <td>3.411580e+07</td>\n",
       "    </tr>\n",
       "    <tr>\n",
       "      <th>max</th>\n",
       "      <td>575.729980</td>\n",
       "      <td>577.400024</td>\n",
       "      <td>564.510010</td>\n",
       "      <td>568.309998</td>\n",
       "      <td>568.309998</td>\n",
       "      <td>5.735764e+08</td>\n",
       "    </tr>\n",
       "  </tbody>\n",
       "</table>\n",
       "</div>"
      ],
      "text/plain": [
       "              Open         High          Low        Close    Adj Close  \\\n",
       "count  3110.000000  3110.000000  3110.000000  3110.000000  3110.000000   \n",
       "mean    177.125299   179.428695   174.899701   177.212695   176.720313   \n",
       "std     117.677661   119.188384   116.224143   117.737480   117.494990   \n",
       "min      18.080000    18.270000    17.549999    17.730000    17.676779   \n",
       "25%      85.094999    86.227499    83.567501    84.882498    84.627699   \n",
       "50%     163.550003   165.989998   161.079994   163.735001   163.243492   \n",
       "75%     230.212502   233.752502   226.852497   231.729996   231.034374   \n",
       "max     575.729980   577.400024   564.510010   568.309998   568.309998   \n",
       "\n",
       "             Volume  \n",
       "count  3.110000e+03  \n",
       "mean   2.970351e+07  \n",
       "std    2.591104e+07  \n",
       "min    5.467500e+06  \n",
       "25%    1.570612e+07  \n",
       "50%    2.200285e+07  \n",
       "75%    3.411580e+07  \n",
       "max    5.735764e+08  "
      ]
     },
     "execution_count": 4,
     "metadata": {},
     "output_type": "execute_result"
    }
   ],
   "source": [
    "df.describe()"
   ]
  },
  {
   "cell_type": "code",
   "execution_count": 5,
   "id": "001d28b3",
   "metadata": {
    "execution": {
     "iopub.execute_input": "2024-10-17T14:37:20.582397Z",
     "iopub.status.busy": "2024-10-17T14:37:20.582008Z",
     "iopub.status.idle": "2024-10-17T14:37:20.921367Z",
     "shell.execute_reply": "2024-10-17T14:37:20.920153Z"
    },
    "papermill": {
     "duration": 0.346208,
     "end_time": "2024-10-17T14:37:20.923897",
     "exception": false,
     "start_time": "2024-10-17T14:37:20.577689",
     "status": "completed"
    },
    "tags": []
   },
   "outputs": [
    {
     "data": {
      "image/png": "[encoded data removed]",
      "text/plain": [
       "<Figure size 640x480 with 1 Axes>"
      ]
     },
     "metadata": {},
     "output_type": "display_data"
    }
   ],
   "source": [
    "# Open by Year\n",
    "\n",
    "x = df['Date']\n",
    "y = df['Open']\n",
    "\n",
    "# Change date to datetime\n",
    "x = pd.to_datetime(x)\n",
    "plt.plot(x ,y , color='blue', linewidth=2, marker='o')\n",
    "\n",
    "# Set the title and label\n",
    "plt.title('Open by Year', fontsize=\"18\")\n",
    "plt.xlabel('Date', fontsize=\"14\")\n",
    "plt.ylabel('Open', fontsize=\"14\")\n",
    "\n",
    "# Set xlabel by year\n",
    "plt.gca().xaxis.set_major_locator(mdates.MonthLocator(interval=12))\n",
    "plt.gca().xaxis.set_major_formatter(mdates.DateFormatter('%Y'))\n",
    "\n",
    "plt.show()"
   ]
  },
  {
   "cell_type": "code",
   "execution_count": 6,
   "id": "fc22d6ea",
   "metadata": {
    "execution": {
     "iopub.execute_input": "2024-10-17T14:37:20.933417Z",
     "iopub.status.busy": "2024-10-17T14:37:20.932452Z",
     "iopub.status.idle": "2024-10-17T14:37:21.240937Z",
     "shell.execute_reply": "2024-10-17T14:37:21.239705Z"
    },
    "papermill": {
     "duration": 0.316146,
     "end_time": "2024-10-17T14:37:21.243650",
     "exception": false,
     "start_time": "2024-10-17T14:37:20.927504",
     "status": "completed"
    },
    "tags": []
   },
   "outputs": [
    {
     "data": {
      "image/png": "[encoded data removed]",
      "text/plain": [
       "<Figure size 640x480 with 1 Axes>"
      ]
     },
     "metadata": {},
     "output_type": "display_data"
    }
   ],
   "source": [
    "# Up/Down by Year\n",
    "\n",
    "z = df['Close']-df['Open']\n",
    "plt.plot(x ,z , color='blue', linewidth=2, marker='o')\n",
    "\n",
    "plt.title('Up/Down by Year', fontsize=\"18\")\n",
    "plt.xlabel('Date', fontsize=\"14\")\n",
    "plt.ylabel('Up/Down', fontsize=\"14\")\n",
    "\n",
    "plt.gca().xaxis.set_major_locator(mdates.MonthLocator(interval=12))\n",
    "plt.gca().xaxis.set_major_formatter(mdates.DateFormatter('%Y'))\n",
    "\n",
    "plt.show()"
   ]
  }
 ],
 "metadata": {
  "kaggle": {
   "accelerator": "none",
   "dataSources": [
    {
     "datasetId": 5819155,
     "sourceId": 9550804,
     "sourceType": "datasetVersion"
    }
   ],
   "dockerImageVersionId": 30786,
   "isGpuEnabled": false,
   "isInternetEnabled": false,
   "language": "python",
   "sourceType": "notebook"
  },
  "kernelspec": {
   "display_name": "Python 3",
   "language": "python",
   "name": "python3"
  },
  "language_info": {
   "codemirror_mode": {
    "name": "ipython",
    "version": 3
   },
   "file_extension": ".py",
   "mimetype": "text/x-python",
   "name": "python",
   "nbconvert_exporter": "python",
   "pygments_lexer": "ipython3",
   "version": "3.10.14"
  },
  "papermill": {
   "default_parameters": {},
   "duration": 5.988327,
   "end_time": "2024-10-17T14:37:21.868240",
   "environment_variables": {},
   "exception": null,
   "input_path": "__notebook__.ipynb",
   "output_path": "__notebook__.ipynb",
   "parameters": {},
   "start_time": "2024-10-17T14:37:15.879913",
   "version": "2.6.0"
  }
 },
 "nbformat": 4,
 "nbformat_minor": 5
}
